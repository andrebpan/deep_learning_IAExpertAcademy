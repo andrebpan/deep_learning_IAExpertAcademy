{
 "cells": [
  {
   "cell_type": "code",
   "execution_count": 90,
   "metadata": {},
   "outputs": [],
   "source": [
    "import numpy as np\n",
    "import pandas as pd\n",
    "import matplotlib\n",
    "import tensorflow as tf\n",
    "import sklearn\n",
    "from tensorflow.keras.models import Sequential\n",
    "from tensorflow.keras.layers import InputLayer, Dense, Dropout, LSTM\n",
    "from tensorflow.keras.callbacks import EarlyStopping, ReduceLROnPlateau, ModelCheckpoint\n",
    "from sklearn.preprocessing import MinMaxScaler\n",
    "import matplotlib.pyplot as plt\n",
    "from sklearn.model_selection import train_test_split"
   ]
  },
  {
   "cell_type": "code",
   "execution_count": 91,
   "metadata": {},
   "outputs": [],
   "source": [
    "base = pd.read_csv('dataset/poluicao.csv')\n",
    "base = base.dropna()"
   ]
  },
  {
   "cell_type": "code",
   "execution_count": 92,
   "metadata": {},
   "outputs": [],
   "source": [
    "#colunas irrelevantes para a previsão\n",
    "base = base.drop(['No', 'year', 'month', 'day', 'hour', 'cbwd'], axis=1)"
   ]
  },
  {
   "cell_type": "code",
   "execution_count": 93,
   "metadata": {},
   "outputs": [
    {
     "data": {
      "text/plain": [
       "(41757, 7)"
      ]
     },
     "execution_count": 93,
     "metadata": {},
     "output_type": "execute_result"
    }
   ],
   "source": [
    "base.shape"
   ]
  },
  {
   "cell_type": "code",
   "execution_count": 94,
   "metadata": {},
   "outputs": [],
   "source": [
    "previsores = base.drop(columns=['pm2.5']).values\n",
    "alvo = base[['pm2.5']].values"
   ]
  },
  {
   "cell_type": "code",
   "execution_count": 95,
   "metadata": {},
   "outputs": [],
   "source": [
    "normalizador_previsores = MinMaxScaler(feature_range=(0, 1))\n",
    "previsores_normalizados = normalizador_previsores.fit_transform(previsores)"
   ]
  },
  {
   "cell_type": "code",
   "execution_count": 96,
   "metadata": {},
   "outputs": [],
   "source": [
    "normalizador_alvo = MinMaxScaler(feature_range=(0, 1))\n",
    "alvo_normalizado = normalizador_alvo.fit_transform(alvo)"
   ]
  },
  {
   "cell_type": "code",
   "execution_count": 97,
   "metadata": {},
   "outputs": [],
   "source": [
    "X = []\n",
    "y = []\n",
    "for i in range(120, len(previsores_normalizados)):\n",
    "    X.append(previsores_normalizados[i-120:i])\n",
    "    y.append(alvo_normalizado[i, 0])\n",
    "\n",
    "X, y = np.array(X), np.array(y)"
   ]
  },
  {
   "cell_type": "code",
   "execution_count": 98,
   "metadata": {},
   "outputs": [
    {
     "data": {
      "text/plain": [
       "array([[0.35294118, 0.24590164, 0.52727273, 0.00237151, 0.        ,\n",
       "        0.        ],\n",
       "       [0.36764706, 0.24590164, 0.52727273, 0.00394662, 0.        ,\n",
       "        0.        ],\n",
       "       [0.42647059, 0.2295082 , 0.54545455, 0.00552173, 0.        ,\n",
       "        0.        ],\n",
       "       ...,\n",
       "       [0.26470588, 0.26229508, 0.78181818, 0.42873071, 0.        ,\n",
       "        0.        ],\n",
       "       [0.26470588, 0.24590164, 0.78181818, 0.43584525, 0.        ,\n",
       "        0.        ],\n",
       "       [0.27941176, 0.26229508, 0.78181818, 0.44138468, 0.        ,\n",
       "        0.        ]])"
      ]
     },
     "execution_count": 98,
     "metadata": {},
     "output_type": "execute_result"
    }
   ],
   "source": [
    "previsores_normalizados"
   ]
  },
  {
   "cell_type": "code",
   "execution_count": 99,
   "metadata": {},
   "outputs": [
    {
     "data": {
      "text/plain": [
       "array([[0.12977867],\n",
       "       [0.14889336],\n",
       "       [0.15995976],\n",
       "       ...,\n",
       "       [0.01006036],\n",
       "       [0.00804829],\n",
       "       [0.01207243]])"
      ]
     },
     "execution_count": 99,
     "metadata": {},
     "output_type": "execute_result"
    }
   ],
   "source": [
    "alvo_normalizado"
   ]
  },
  {
   "cell_type": "code",
   "execution_count": 100,
   "metadata": {},
   "outputs": [],
   "source": [
    "X_train, X_test, y_train, y_test = train_test_split(X, y, test_size=0.3, shuffle=False)"
   ]
  },
  {
   "cell_type": "code",
   "execution_count": 101,
   "metadata": {},
   "outputs": [
    {
     "name": "stdout",
     "output_type": "stream",
     "text": [
      "Shape de X_train: (29145, 120, 6)\n",
      "Shape de X_test: (12492, 120, 6)\n"
     ]
    }
   ],
   "source": [
    "print(\"Shape de X_train:\", X_train.shape)\n",
    "print(\"Shape de X_test:\", X_test.shape)"
   ]
  },
  {
   "cell_type": "code",
   "execution_count": 102,
   "metadata": {},
   "outputs": [
    {
     "name": "stderr",
     "output_type": "stream",
     "text": [
      "c:\\Users\\andre\\anaconda3\\Lib\\site-packages\\keras\\src\\layers\\rnn\\rnn.py:204: UserWarning: Do not pass an `input_shape`/`input_dim` argument to a layer. When using Sequential models, prefer using an `Input(shape)` object as the first layer in the model instead.\n",
      "  super().__init__(**kwargs)\n"
     ]
    }
   ],
   "source": [
    "regressor = Sequential()\n",
    "regressor.add(LSTM(units=100, return_sequences=True, input_shape=(X_train.shape[1], X_train.shape[2])))\n",
    "regressor.add(Dropout(0.2))\n",
    "\n",
    "regressor.add(LSTM(units=50, return_sequences=True))\n",
    "regressor.add(Dropout(0.2))\n",
    "\n",
    "regressor.add(LSTM(units=50))\n",
    "regressor.add(Dropout(0.2))\n",
    "\n",
    "regressor.add(Dense(units=1, activation='linear'))"
   ]
  },
  {
   "cell_type": "code",
   "execution_count": 103,
   "metadata": {},
   "outputs": [],
   "source": [
    "regressor.compile(optimizer='adam', loss='mean_squared_error', metrics=['mean_absolute_error'])"
   ]
  },
  {
   "cell_type": "code",
   "execution_count": 104,
   "metadata": {},
   "outputs": [],
   "source": [
    "es = EarlyStopping(monitor='val_loss', patience=10, restore_best_weights=True)\n",
    "reduce_lr = ReduceLROnPlateau(monitor='val_loss', factor=0.2, patience=5, min_lr=0.001)"
   ]
  },
  {
   "cell_type": "code",
   "execution_count": 105,
   "metadata": {},
   "outputs": [
    {
     "name": "stdout",
     "output_type": "stream",
     "text": [
      "Epoch 1/10\n",
      "\u001b[1m911/911\u001b[0m \u001b[32m━━━━━━━━━━━━━━━━━━━━\u001b[0m\u001b[37m\u001b[0m \u001b[1m77s\u001b[0m 81ms/step - loss: 0.0067 - mean_absolute_error: 0.0597 - val_loss: 0.0052 - val_mean_absolute_error: 0.0471 - learning_rate: 0.0010\n",
      "Epoch 2/10\n",
      "\u001b[1m911/911\u001b[0m \u001b[32m━━━━━━━━━━━━━━━━━━━━\u001b[0m\u001b[37m\u001b[0m \u001b[1m71s\u001b[0m 78ms/step - loss: 0.0051 - mean_absolute_error: 0.0506 - val_loss: 0.0053 - val_mean_absolute_error: 0.0511 - learning_rate: 0.0010\n",
      "Epoch 3/10\n",
      "\u001b[1m911/911\u001b[0m \u001b[32m━━━━━━━━━━━━━━━━━━━━\u001b[0m\u001b[37m\u001b[0m \u001b[1m72s\u001b[0m 79ms/step - loss: 0.0048 - mean_absolute_error: 0.0487 - val_loss: 0.0055 - val_mean_absolute_error: 0.0543 - learning_rate: 0.0010\n",
      "Epoch 4/10\n",
      "\u001b[1m911/911\u001b[0m \u001b[32m━━━━━━━━━━━━━━━━━━━━\u001b[0m\u001b[37m\u001b[0m \u001b[1m71s\u001b[0m 78ms/step - loss: 0.0045 - mean_absolute_error: 0.0474 - val_loss: 0.0040 - val_mean_absolute_error: 0.0456 - learning_rate: 0.0010\n",
      "Epoch 5/10\n",
      "\u001b[1m911/911\u001b[0m \u001b[32m━━━━━━━━━━━━━━━━━━━━\u001b[0m\u001b[37m\u001b[0m \u001b[1m71s\u001b[0m 78ms/step - loss: 0.0044 - mean_absolute_error: 0.0463 - val_loss: 0.0040 - val_mean_absolute_error: 0.0440 - learning_rate: 0.0010\n",
      "Epoch 6/10\n",
      "\u001b[1m911/911\u001b[0m \u001b[32m━━━━━━━━━━━━━━━━━━━━\u001b[0m\u001b[37m\u001b[0m \u001b[1m71s\u001b[0m 78ms/step - loss: 0.0041 - mean_absolute_error: 0.0452 - val_loss: 0.0042 - val_mean_absolute_error: 0.0466 - learning_rate: 0.0010\n",
      "Epoch 7/10\n",
      "\u001b[1m911/911\u001b[0m \u001b[32m━━━━━━━━━━━━━━━━━━━━\u001b[0m\u001b[37m\u001b[0m \u001b[1m71s\u001b[0m 78ms/step - loss: 0.0043 - mean_absolute_error: 0.0457 - val_loss: 0.0043 - val_mean_absolute_error: 0.0504 - learning_rate: 0.0010\n",
      "Epoch 8/10\n",
      "\u001b[1m911/911\u001b[0m \u001b[32m━━━━━━━━━━━━━━━━━━━━\u001b[0m\u001b[37m\u001b[0m \u001b[1m71s\u001b[0m 78ms/step - loss: 0.0040 - mean_absolute_error: 0.0441 - val_loss: 0.0039 - val_mean_absolute_error: 0.0456 - learning_rate: 0.0010\n",
      "Epoch 9/10\n",
      "\u001b[1m911/911\u001b[0m \u001b[32m━━━━━━━━━━━━━━━━━━━━\u001b[0m\u001b[37m\u001b[0m \u001b[1m72s\u001b[0m 79ms/step - loss: 0.0040 - mean_absolute_error: 0.0440 - val_loss: 0.0043 - val_mean_absolute_error: 0.0437 - learning_rate: 0.0010\n",
      "Epoch 10/10\n",
      "\u001b[1m911/911\u001b[0m \u001b[32m━━━━━━━━━━━━━━━━━━━━\u001b[0m\u001b[37m\u001b[0m \u001b[1m73s\u001b[0m 80ms/step - loss: 0.0038 - mean_absolute_error: 0.0434 - val_loss: 0.0038 - val_mean_absolute_error: 0.0460 - learning_rate: 0.0010\n"
     ]
    },
    {
     "data": {
      "text/plain": [
       "<keras.src.callbacks.history.History at 0x2bc60b8c7d0>"
      ]
     },
     "execution_count": 105,
     "metadata": {},
     "output_type": "execute_result"
    }
   ],
   "source": [
    "regressor.fit(X_train, y_train, validation_data=(X_test, y_test), \n",
    "                        epochs=10, batch_size=32, callbacks=[es, reduce_lr])"
   ]
  },
  {
   "cell_type": "code",
   "execution_count": 106,
   "metadata": {},
   "outputs": [
    {
     "name": "stdout",
     "output_type": "stream",
     "text": [
      "\u001b[1m391/391\u001b[0m \u001b[32m━━━━━━━━━━━━━━━━━━━━\u001b[0m\u001b[37m\u001b[0m \u001b[1m9s\u001b[0m 22ms/step\n"
     ]
    }
   ],
   "source": [
    "previsoes = regressor.predict(X_test)"
   ]
  },
  {
   "cell_type": "code",
   "execution_count": 112,
   "metadata": {},
   "outputs": [
    {
     "name": "stdout",
     "output_type": "stream",
     "text": [
      "MSE no conjunto de teste: 0.0037908096312061442\n"
     ]
    }
   ],
   "source": [
    "from sklearn.metrics import mean_squared_error\n",
    "mse = mean_squared_error(y_test, previsoes)\n",
    "print(f'MSE no conjunto de teste: {mse}')"
   ]
  }
 ],
 "metadata": {
  "kernelspec": {
   "display_name": "Python 3",
   "language": "python",
   "name": "python3"
  },
  "language_info": {
   "codemirror_mode": {
    "name": "ipython",
    "version": 3
   },
   "file_extension": ".py",
   "mimetype": "text/x-python",
   "name": "python",
   "nbconvert_exporter": "python",
   "pygments_lexer": "ipython3",
   "version": "3.11.5"
  }
 },
 "nbformat": 4,
 "nbformat_minor": 2
}
